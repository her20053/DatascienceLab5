{
 "cells": [
  {
   "cell_type": "markdown",
   "metadata": {},
   "source": [
    "### Laboratorio #5 – Threat hunting\n",
    "\n",
    "\n",
    "#### Jose Andres Hernandez Guerra 20053"
   ]
  },
  {
   "cell_type": "markdown",
   "metadata": {},
   "source": [
    "1. Cargue las librerías y archivos a utilizar en la misma ubicación"
   ]
  },
  {
   "cell_type": "markdown",
   "metadata": {},
   "source": [
    "Cargue la información del archivo large_even.json en una lista, muestre la cantidad de\n",
    "registros total (deben ser 746, 909). Este es nuestro tráfico inicial!"
   ]
  },
  {
   "cell_type": "code",
   "execution_count": 1,
   "metadata": {},
   "outputs": [
    {
     "name": "stdout",
     "output_type": "stream",
     "text": [
      "Cantidad de eventos:  746909\n",
      "{'timestamp': '2017-07-22T17:33:15.784100-0500', 'flow_id': 283570730437312, 'pcap_cnt': 18519, 'event_type': 'alert', 'vlan': 130, 'src_ip': '192.168.203.200', 'src_port': 2328, 'dest_ip': '192.181.145.109', 'dest_port': 445, 'proto': 'TCP', 'alert': {'action': 'allowed', 'gid': 1, 'signature_id': 2001569, 'rev': 15, 'signature': 'ET SCAN Behavioral Unusual Port 445 traffic Potential Scan or Infection', 'category': 'Misc activity', 'severity': 3}}\n",
      "{'timestamp': '2017-07-22T17:33:16.571273-0500', 'flow_id': 1519048138171115, 'pcap_cnt': 21531, 'event_type': 'ssh', 'vlan': 140, 'src_ip': '192.168.204.60', 'src_port': 62990, 'dest_ip': '192.168.26.254', 'dest_port': 22, 'proto': 'TCP', 'ssh': {'client': {'proto_version': '2.0', 'software_version': 'OpenSSH_5.0'}, 'server': {'proto_version': '1.99', 'software_version': 'Cisco-1.25'}}}\n",
      "{'timestamp': '2017-07-22T17:33:16.661646-0500', 'flow_id': 1327836194150542, 'pcap_cnt': 22269, 'event_type': 'dns', 'vlan': 110, 'src_ip': '2001:0dbb:0c18:0011:0260:6eff:fe30:0863', 'src_port': 59680, 'dest_ip': '2001:0500:0001:0000:0000:0000:803f:0235', 'dest_port': 53, 'proto': 'UDP', 'dns': {'type': 'query', 'id': 15529, 'rrname': 'api.wunderground.com', 'rrtype': 'A', 'tx_id': 0}}\n",
      "{'timestamp': '2017-07-22T17:33:17.561063-0500', 'flow_id': 963202060748661, 'pcap_cnt': 28731, 'event_type': 'http', 'vlan': 140, 'src_ip': '192.168.204.59', 'src_port': 38011, 'dest_ip': '192.168.24.201', 'dest_port': 80, 'proto': 'TCP', 'tx_id': 0, 'http': {'hostname': '192.168.24.201', 'url': '/phppgadmin', 'http_user_agent': 'Mozilla/5.0 (X11; U; Linux i686; en-US; rv:1.9.0.15) Gecko/2009102814 Ubuntu/8.10 (intrepid) Firefox/3.0.15', 'http_content_type': 'text/html', 'http_method': 'GET', 'protocol': 'HTTP/1.1', 'status': 301, 'redirect': 'http://192.168.24.201/phppgadmin/', 'length': 252}}\n",
      "{'timestamp': '2017-07-22T17:33:17.595416-0500', 'flow_id': 963202060748661, 'pcap_cnt': 28994, 'event_type': 'fileinfo', 'vlan': 140, 'src_ip': '192.168.24.201', 'src_port': 80, 'dest_ip': '192.168.204.59', 'dest_port': 38011, 'proto': 'TCP', 'http': {'hostname': '192.168.24.201', 'url': '/phppgadmin', 'http_user_agent': 'Mozilla/5.0 (X11; U; Linux i686; en-US; rv:1.9.0.15) Gecko/2009102814 Ubuntu/8.10 (intrepid) Firefox/3.0.15', 'http_content_type': 'text/html', 'http_method': 'GET', 'protocol': 'HTTP/1.1', 'status': 301, 'redirect': 'http://192.168.24.201/phppgadmin/', 'length': 252}, 'app_proto': 'http', 'fileinfo': {'filename': '/phppgadmin', 'state': 'CLOSED', 'md5': '7cb52f924506899630eb23776dd9f601', 'stored': False, 'size': 321, 'tx_id': 0}}\n"
     ]
    }
   ],
   "source": [
    "import json\n",
    "import tldextract\n",
    "\n",
    "\n",
    "# Cargamos el archivo de datos ubicado en \"./Archivos/large_eve.json\" y lo guardamos en una lista\n",
    "\n",
    "data = []\n",
    "with open(\"./Archivos/large_eve.json\", 'r') as file:\n",
    "\n",
    "    for line in file:\n",
    "    \n",
    "        record = json.loads(line) \n",
    "    \n",
    "        data.append(record)\n",
    "\n",
    "# Mostramos datos importantes sobre el archivo\n",
    "\n",
    "print(\"Cantidad de eventos: \", len(data))\n",
    "\n",
    "# Mostramos los primeros 5 eventos\n",
    "\n",
    "for i in range(5):\n",
    "\n",
    "    print(data[i])"
   ]
  },
  {
   "cell_type": "markdown",
   "metadata": {},
   "source": [
    "Debido a que estamos buscando dominios web, del total de registros, solamente estamos\n",
    "interesados en los registros DNS. Cargue únicamente aquellos registros que sean DNS."
   ]
  },
  {
   "cell_type": "code",
   "execution_count": 2,
   "metadata": {},
   "outputs": [
    {
     "name": "stdout",
     "output_type": "stream",
     "text": [
      "Cantidad de eventos con el campo 'dns' en el campo 'event_type':  15749\n",
      "{'timestamp': '2017-07-22T17:33:16.661646-0500', 'flow_id': 1327836194150542, 'pcap_cnt': 22269, 'event_type': 'dns', 'vlan': 110, 'src_ip': '2001:0dbb:0c18:0011:0260:6eff:fe30:0863', 'src_port': 59680, 'dest_ip': '2001:0500:0001:0000:0000:0000:803f:0235', 'dest_port': 53, 'proto': 'UDP', 'dns': {'type': 'query', 'id': 15529, 'rrname': 'api.wunderground.com', 'rrtype': 'A', 'tx_id': 0}}\n",
      "{'timestamp': '2017-07-22T17:33:24.990320-0500', 'flow_id': 2022925111925872, 'pcap_cnt': 54352, 'event_type': 'dns', 'vlan': 110, 'src_ip': '2001:0dbb:0c18:0011:0260:6eff:fe30:0863', 'src_port': 38051, 'dest_ip': '2001:0500:0003:0000:0000:0000:0000:0042', 'dest_port': 53, 'proto': 'UDP', 'dns': {'type': 'query', 'id': 58278, 'rrname': 'stork79.dropbox.com', 'rrtype': 'A', 'tx_id': 0}}\n",
      "{'timestamp': '2017-07-22T17:33:27.379891-0500', 'flow_id': 578544790391795, 'pcap_cnt': 54519, 'event_type': 'dns', 'vlan': 150, 'src_ip': '192.168.205.170', 'src_port': 31393, 'dest_ip': '192.168.207.4', 'dest_port': 53, 'proto': 'UDP', 'dns': {'type': 'query', 'id': 54724, 'rrname': 'hpca-tier2.office.aol.com.ad.aol.aoltw.net', 'rrtype': 'A', 'tx_id': 0}}\n",
      "{'timestamp': '2017-07-22T17:33:27.380146-0500', 'flow_id': 578544790391795, 'pcap_cnt': 54520, 'event_type': 'dns', 'vlan': 150, 'src_ip': '192.168.207.4', 'src_port': 53, 'dest_ip': '192.168.205.170', 'dest_port': 31393, 'proto': 'UDP', 'dns': {'type': 'answer', 'id': 54724, 'rcode': 'NXDOMAIN', 'rrname': 'hpca-tier2.office.aol.com.ad.aol.aoltw.net'}}\n",
      "{'timestamp': '2017-07-22T17:33:27.380146-0500', 'flow_id': 578544790391795, 'pcap_cnt': 54520, 'event_type': 'dns', 'vlan': 150, 'src_ip': '192.168.207.4', 'src_port': 53, 'dest_ip': '192.168.205.170', 'dest_port': 31393, 'proto': 'UDP', 'dns': {'type': 'answer', 'id': 54724, 'rcode': 'NXDOMAIN', 'rrname': '<root>', 'rrtype': 'SOA', 'ttl': 20864}}\n"
     ]
    }
   ],
   "source": [
    "eventos_especificos_dns = []\n",
    "\n",
    "# Buscamos eventos que tengan el campo \"dns\" en el campo \"event_type\"\n",
    "\n",
    "for evento in data:\n",
    "\n",
    "    if evento[\"event_type\"] == \"dns\":\n",
    "\n",
    "        eventos_especificos_dns.append(evento)\n",
    "\n",
    "# Mostramos la cantidad de eventos que cumplen con la condición\n",
    "\n",
    "print(\"Cantidad de eventos con el campo 'dns' en el campo 'event_type': \", len(eventos_especificos_dns))\n",
    "\n",
    "# Mostramos los primeros 5 eventos que cumplen con la condición\n",
    "\n",
    "for i in range(5):\n",
    "\n",
    "    print(eventos_especificos_dns[i])"
   ]
  },
  {
   "cell_type": "markdown",
   "metadata": {},
   "source": [
    "Muestre la nueva cantidad de registros filtrados. Deben ser 21484. Esta es una cantidad\n",
    "mucho más manejable, pero aún se debe seguir depurando la información a buscar."
   ]
  },
  {
   "cell_type": "code",
   "execution_count": 3,
   "metadata": {},
   "outputs": [],
   "source": [
    "import pandas as pd"
   ]
  },
  {
   "cell_type": "code",
   "execution_count": 4,
   "metadata": {},
   "outputs": [
    {
     "name": "stdout",
     "output_type": "stream",
     "text": [
      "                         timestamp       flow_id  pcap_cnt event_type   vlan  \\\n",
      "0  2017-07-22T17:33:15.784100-0500  2.835707e+14   18519.0      alert  130.0   \n",
      "1  2017-07-22T17:33:16.571273-0500  1.519048e+15   21531.0        ssh  140.0   \n",
      "2  2017-07-22T17:33:16.661646-0500  1.327836e+15   22269.0        dns  110.0   \n",
      "3  2017-07-22T17:33:17.561063-0500  9.632021e+14   28731.0       http  140.0   \n",
      "4  2017-07-22T17:33:17.595416-0500  9.632021e+14   28994.0   fileinfo  140.0   \n",
      "\n",
      "                                    src_ip  src_port  \\\n",
      "0                          192.168.203.200    2328.0   \n",
      "1                           192.168.204.60   62990.0   \n",
      "2  2001:0dbb:0c18:0011:0260:6eff:fe30:0863   59680.0   \n",
      "3                           192.168.204.59   38011.0   \n",
      "4                           192.168.24.201      80.0   \n",
      "\n",
      "                                   dest_ip  dest_port proto  ...  \\\n",
      "0                          192.181.145.109      445.0   TCP  ...   \n",
      "1                           192.168.26.254       22.0   TCP  ...   \n",
      "2  2001:0500:0001:0000:0000:0000:803f:0235       53.0   UDP  ...   \n",
      "3                           192.168.24.201       80.0   TCP  ...   \n",
      "4                           192.168.204.59    38011.0   TCP  ...   \n",
      "\n",
      "  stats.flow_mgr.rows_busy  stats.flow_mgr.rows_maxlen  \\\n",
      "0                      NaN                         NaN   \n",
      "1                      NaN                         NaN   \n",
      "2                      NaN                         NaN   \n",
      "3                      NaN                         NaN   \n",
      "4                      NaN                         NaN   \n",
      "\n",
      "   stats.file_store.open_files  stats.dns.memuse stats.dns.memcap_state  \\\n",
      "0                          NaN               NaN                    NaN   \n",
      "1                          NaN               NaN                    NaN   \n",
      "2                          NaN               NaN                    NaN   \n",
      "3                          NaN               NaN                    NaN   \n",
      "4                          NaN               NaN                    NaN   \n",
      "\n",
      "  stats.dns.memcap_global  stats.http.memuse stats.http.memcap tcp.ecn tcp.cwr  \n",
      "0                     NaN                NaN               NaN     NaN     NaN  \n",
      "1                     NaN                NaN               NaN     NaN     NaN  \n",
      "2                     NaN                NaN               NaN     NaN     NaN  \n",
      "3                     NaN                NaN               NaN     NaN     NaN  \n",
      "4                     NaN                NaN               NaN     NaN     NaN  \n",
      "\n",
      "[5 rows x 199 columns]\n",
      "Index(['timestamp', 'flow_id', 'pcap_cnt', 'event_type', 'vlan', 'src_ip',\n",
      "       'src_port', 'dest_ip', 'dest_port', 'proto',\n",
      "       ...\n",
      "       'stats.flow_mgr.rows_busy', 'stats.flow_mgr.rows_maxlen',\n",
      "       'stats.file_store.open_files', 'stats.dns.memuse',\n",
      "       'stats.dns.memcap_state', 'stats.dns.memcap_global',\n",
      "       'stats.http.memuse', 'stats.http.memcap', 'tcp.ecn', 'tcp.cwr'],\n",
      "      dtype='object', length=199)\n"
     ]
    }
   ],
   "source": [
    "# Normalizamos los datos\n",
    "\n",
    "df_normalized = pd.json_normalize(data)\n",
    "\n",
    "print(df_normalized.head())\n",
    "\n",
    "# Mostramos los nombres de las columnas\n",
    "\n",
    "print(df_normalized.columns)"
   ]
  },
  {
   "cell_type": "code",
   "execution_count": 5,
   "metadata": {},
   "outputs": [
    {
     "name": "stdout",
     "output_type": "stream",
     "text": [
      "En este dataset hay 2849 registros DNS tipo A\n",
      "En este dataset hay 177 dominios únicos\n"
     ]
    }
   ],
   "source": [
    "\n",
    "registros_dns_A = df_normalized[df_normalized['dns.rrtype'] == 'A']\n",
    "\n",
    "cantidad_registros_dns_A = len(registros_dns_A)\n",
    "\n",
    "print(f\"En este dataset hay {cantidad_registros_dns_A} registros DNS tipo A\")\n",
    "\n",
    "dominios_unicos = registros_dns_A['dns.rrname'].unique()\n",
    "\n",
    "cantidad_dominios_unicos = len(dominios_unicos)\n",
    "\n",
    "print(f\"En este dataset hay {cantidad_dominios_unicos} dominios únicos\")"
   ]
  },
  {
   "cell_type": "code",
   "execution_count": 6,
   "metadata": {},
   "outputs": [],
   "source": [
    "def obtener_tld(dominio):\n",
    "\n",
    "    resultado = tldextract.extract(dominio)\n",
    "\n",
    "    tld = resultado.domain\n",
    "    \n",
    "    if resultado.suffix:\n",
    "\n",
    "        tld += '.' + resultado.suffix\n",
    "\n",
    "    return tld"
   ]
  },
  {
   "cell_type": "code",
   "execution_count": 8,
   "metadata": {},
   "outputs": [
    {
     "name": "stdout",
     "output_type": "stream",
     "text": [
      "                          timestamp       flow_id  pcap_cnt event_type   vlan  \\\n",
      "2   2017-07-22T17:33:16.661646-0500  1.327836e+15   22269.0        dns  110.0   \n",
      "38  2017-07-22T17:33:24.990320-0500  2.022925e+15   54352.0        dns  110.0   \n",
      "39  2017-07-22T17:33:27.379891-0500  5.785448e+14   54519.0        dns  150.0   \n",
      "43  2017-07-22T17:33:36.672785-0500  2.379195e+14   55496.0        dns  110.0   \n",
      "44  2017-07-22T17:33:38.537426-0500  2.167545e+15   55687.0        dns  180.0   \n",
      "\n",
      "                                     src_ip  src_port  \\\n",
      "2   2001:0dbb:0c18:0011:0260:6eff:fe30:0863   59680.0   \n",
      "38  2001:0dbb:0c18:0011:0260:6eff:fe30:0863   38051.0   \n",
      "39                          192.168.205.170   31393.0   \n",
      "43  2001:0dbb:0c18:0011:0260:6eff:fe30:0863   41663.0   \n",
      "44                           192.168.198.62   35092.0   \n",
      "\n",
      "                                    dest_ip  dest_port proto  ...  \\\n",
      "2   2001:0500:0001:0000:0000:0000:803f:0235       53.0   UDP  ...   \n",
      "38  2001:0500:0003:0000:0000:0000:0000:0042       53.0   UDP  ...   \n",
      "39                            192.168.207.4       53.0   UDP  ...   \n",
      "43  2001:07fd:0000:0000:0000:0000:0000:0001       53.0   UDP  ...   \n",
      "44                            192.168.207.4       53.0   UDP  ...   \n",
      "\n",
      "   stats.flow_mgr.rows_maxlen  stats.file_store.open_files  stats.dns.memuse  \\\n",
      "2                         NaN                          NaN               NaN   \n",
      "38                        NaN                          NaN               NaN   \n",
      "39                        NaN                          NaN               NaN   \n",
      "43                        NaN                          NaN               NaN   \n",
      "44                        NaN                          NaN               NaN   \n",
      "\n",
      "    stats.dns.memcap_state stats.dns.memcap_global stats.http.memuse  \\\n",
      "2                      NaN                     NaN               NaN   \n",
      "38                     NaN                     NaN               NaN   \n",
      "39                     NaN                     NaN               NaN   \n",
      "43                     NaN                     NaN               NaN   \n",
      "44                     NaN                     NaN               NaN   \n",
      "\n",
      "    stats.http.memcap tcp.ecn tcp.cwr               tld  \n",
      "2                 NaN     NaN     NaN  wunderground.com  \n",
      "38                NaN     NaN     NaN       dropbox.com  \n",
      "39                NaN     NaN     NaN         aoltw.net  \n",
      "43                NaN     NaN     NaN  wunderground.com  \n",
      "44                NaN     NaN     NaN              home  \n",
      "\n",
      "[5 rows x 200 columns]\n",
      "tld\n",
      "dropbox.com       312\n",
      "google.com        127\n",
      "fastserv.com      124\n",
      "mozilla.org       122\n",
      "team-cymru.org     84\n",
      "Name: count, dtype: int64\n",
      "tld\n",
      "1201              1\n",
      "FL                1\n",
      "cakephp.org       1\n",
      "postgresql.org    1\n",
      "real.com          1\n",
      "Name: count, dtype: int64\n",
      "google.com\n",
      "google.com.ar\n",
      "ar.ar\n",
      "www.google\n",
      "www.google\n",
      "google.com\n"
     ]
    },
    {
     "name": "stderr",
     "output_type": "stream",
     "text": [
      "/var/folders/hr/ygkbzwn15v3czjk9nvrdsjyc0000gn/T/ipykernel_6941/2775260445.py:3: SettingWithCopyWarning: \n",
      "A value is trying to be set on a copy of a slice from a DataFrame.\n",
      "Try using .loc[row_indexer,col_indexer] = value instead\n",
      "\n",
      "See the caveats in the documentation: https://pandas.pydata.org/pandas-docs/stable/user_guide/indexing.html#returning-a-view-versus-a-copy\n",
      "  registros_dns_A['tld'] = registros_dns_A['dns.rrname'].apply(obtener_tld)\n"
     ]
    }
   ],
   "source": [
    "# Agregamos una columna con el TLD de cada dominio\n",
    "\n",
    "registros_dns_A['tld'] = registros_dns_A['dns.rrname'].apply(obtener_tld)\n",
    "\n",
    "print(registros_dns_A.head())\n",
    "\n",
    "# Mostramos los TLDs más comunes\n",
    "\n",
    "tlds_comunes = registros_dns_A['tld'].value_counts()\n",
    "\n",
    "print(tlds_comunes.head())\n",
    "\n",
    "# Mostramos los TLDs menos comunes\n",
    "\n",
    "print(tlds_comunes.tail())\n",
    "\n",
    "# Utilizamos la funcion con unos cuantos ejemplos\n",
    "\n",
    "print(obtener_tld(\"www.google.com\"))\n",
    "\n",
    "print(obtener_tld(\"www.google.com.ar\"))\n",
    "\n",
    "print(obtener_tld(\"www.google.com.ar.ar\"))\n",
    "\n",
    "print(obtener_tld(\"www.google\"))\n",
    "\n",
    "print(obtener_tld(\"www.google.\"))\n",
    "\n",
    "print(obtener_tld(\"www.google.com.\"))"
   ]
  },
  {
   "cell_type": "code",
   "execution_count": 9,
   "metadata": {},
   "outputs": [
    {
     "data": {
      "text/html": [
       "<div>\n",
       "<style scoped>\n",
       "    .dataframe tbody tr th:only-of-type {\n",
       "        vertical-align: middle;\n",
       "    }\n",
       "\n",
       "    .dataframe tbody tr th {\n",
       "        vertical-align: top;\n",
       "    }\n",
       "\n",
       "    .dataframe thead th {\n",
       "        text-align: right;\n",
       "    }\n",
       "</style>\n",
       "<table border=\"1\" class=\"dataframe\">\n",
       "  <thead>\n",
       "    <tr style=\"text-align: right;\">\n",
       "      <th></th>\n",
       "      <th>domain_tld</th>\n",
       "    </tr>\n",
       "  </thead>\n",
       "  <tbody>\n",
       "    <tr>\n",
       "      <th>0</th>\n",
       "      <td>wunderground.com</td>\n",
       "    </tr>\n",
       "    <tr>\n",
       "      <th>1</th>\n",
       "      <td>dropbox.com</td>\n",
       "    </tr>\n",
       "    <tr>\n",
       "      <th>2</th>\n",
       "      <td>aoltw.net</td>\n",
       "    </tr>\n",
       "    <tr>\n",
       "      <th>3</th>\n",
       "      <td>home</td>\n",
       "    </tr>\n",
       "    <tr>\n",
       "      <th>4</th>\n",
       "      <td>mozilla.com</td>\n",
       "    </tr>\n",
       "    <tr>\n",
       "      <th>5</th>\n",
       "      <td>metasploit.com</td>\n",
       "    </tr>\n",
       "    <tr>\n",
       "      <th>6</th>\n",
       "      <td>aol.com</td>\n",
       "    </tr>\n",
       "    <tr>\n",
       "      <th>7</th>\n",
       "      <td>aoltw.net</td>\n",
       "    </tr>\n",
       "    <tr>\n",
       "      <th>8</th>\n",
       "      <td>aol.com</td>\n",
       "    </tr>\n",
       "    <tr>\n",
       "      <th>9</th>\n",
       "      <td>aol.com</td>\n",
       "    </tr>\n",
       "  </tbody>\n",
       "</table>\n",
       "</div>"
      ],
      "text/plain": [
       "         domain_tld\n",
       "0  wunderground.com\n",
       "1       dropbox.com\n",
       "2         aoltw.net\n",
       "3              home\n",
       "4       mozilla.com\n",
       "5    metasploit.com\n",
       "6           aol.com\n",
       "7         aoltw.net\n",
       "8           aol.com\n",
       "9           aol.com"
      ]
     },
     "execution_count": 9,
     "metadata": {},
     "output_type": "execute_result"
    }
   ],
   "source": [
    "tlds = [obtener_tld(dominio) for dominio in dominios_unicos]\n",
    "\n",
    "tlds_df = pd.DataFrame(tlds, columns=['domain_tld'])\n",
    "tlds_df.head(10)"
   ]
  },
  {
   "cell_type": "code",
   "execution_count": 10,
   "metadata": {},
   "outputs": [
    {
     "ename": "FileNotFoundError",
     "evalue": "[Errno 2] No such file or directory: 'd_common_en_words.pickle'",
     "output_type": "error",
     "traceback": [
      "\u001b[0;31m---------------------------------------------------------------------------\u001b[0m",
      "\u001b[0;31mFileNotFoundError\u001b[0m                         Traceback (most recent call last)",
      "Cell \u001b[0;32mIn[10], line 3\u001b[0m\n\u001b[1;32m      1\u001b[0m \u001b[38;5;28;01mfrom\u001b[39;00m \u001b[38;5;21;01mArchivos\u001b[39;00m\u001b[38;5;21;01m.\u001b[39;00m\u001b[38;5;21;01mclasificador\u001b[39;00m \u001b[38;5;28;01mimport\u001b[39;00m clasificacion\n\u001b[0;32m----> 3\u001b[0m df \u001b[38;5;241m=\u001b[39m \u001b[43mclasificacion\u001b[49m\u001b[43m(\u001b[49m\u001b[43mtlds_df\u001b[49m\u001b[43m)\u001b[49m\n\u001b[1;32m      4\u001b[0m df\u001b[38;5;241m.\u001b[39mhead()\n",
      "File \u001b[0;32m~/Downloads/Lab5_Security-main/Lab Jose/Archivos/clasificador.py:121\u001b[0m, in \u001b[0;36mclasificacion\u001b[0;34m(dataframe)\u001b[0m\n\u001b[1;32m    118\u001b[0m df[\u001b[38;5;124m'\u001b[39m\u001b[38;5;124mvowel-cons\u001b[39m\u001b[38;5;124m'\u001b[39m] \u001b[38;5;241m=\u001b[39m df[\u001b[38;5;124m'\u001b[39m\u001b[38;5;124mdomain_tld\u001b[39m\u001b[38;5;124m'\u001b[39m]\u001b[38;5;241m.\u001b[39mapply(vowel_consonant_ratio)\n\u001b[1;32m    119\u001b[0m df[\u001b[38;5;124m'\u001b[39m\u001b[38;5;124mfirstDigitIndex\u001b[39m\u001b[38;5;124m'\u001b[39m] \u001b[38;5;241m=\u001b[39m df[\u001b[38;5;124m'\u001b[39m\u001b[38;5;124mdomain_tld\u001b[39m\u001b[38;5;124m'\u001b[39m]\u001b[38;5;241m.\u001b[39mapply(firstDigitIndex)\n\u001b[0;32m--> 121\u001b[0m \u001b[38;5;28;01mwith\u001b[39;00m \u001b[38;5;28;43mopen\u001b[39;49m\u001b[43m(\u001b[49m\u001b[38;5;124;43m'\u001b[39;49m\u001b[38;5;124;43md_common_en_words\u001b[39;49m\u001b[38;5;124;43m'\u001b[39;49m\u001b[43m \u001b[49m\u001b[38;5;241;43m+\u001b[39;49m\u001b[43m \u001b[49m\u001b[38;5;124;43m'\u001b[39;49m\u001b[38;5;124;43m.pickle\u001b[39;49m\u001b[38;5;124;43m'\u001b[39;49m\u001b[43m,\u001b[49m\u001b[43m \u001b[49m\u001b[38;5;124;43m'\u001b[39;49m\u001b[38;5;124;43mrb\u001b[39;49m\u001b[38;5;124;43m'\u001b[39;49m\u001b[43m)\u001b[49m \u001b[38;5;28;01mas\u001b[39;00m f:\n\u001b[1;32m    122\u001b[0m         d \u001b[38;5;241m=\u001b[39m pickle\u001b[38;5;241m.\u001b[39mload(f)\n\u001b[1;32m    124\u001b[0m df[\u001b[38;5;124m'\u001b[39m\u001b[38;5;124mngrams\u001b[39m\u001b[38;5;124m'\u001b[39m] \u001b[38;5;241m=\u001b[39m df[\u001b[38;5;124m'\u001b[39m\u001b[38;5;124mdomain_tld\u001b[39m\u001b[38;5;124m'\u001b[39m]\u001b[38;5;241m.\u001b[39mapply(\u001b[38;5;28;01mlambda\u001b[39;00m x: average_ngram_feature([ngram_feature(x, d, \u001b[38;5;241m1\u001b[39m), \n\u001b[1;32m    125\u001b[0m                                                                 ngram_feature(x, d, \u001b[38;5;241m2\u001b[39m), \n\u001b[1;32m    126\u001b[0m                                                                 ngram_feature(x, d, \u001b[38;5;241m3\u001b[39m)]))\n",
      "\u001b[0;31mFileNotFoundError\u001b[0m: [Errno 2] No such file or directory: 'd_common_en_words.pickle'"
     ]
    }
   ],
   "source": [
    "from Archivos.clasificador import clasificacion\n",
    "\n",
    "df = clasificacion(tlds_df)\n",
    "df.head()"
   ]
  }
 ],
 "metadata": {
  "kernelspec": {
   "display_name": "Python 3",
   "language": "python",
   "name": "python3"
  },
  "language_info": {
   "codemirror_mode": {
    "name": "ipython",
    "version": 3
   },
   "file_extension": ".py",
   "mimetype": "text/x-python",
   "name": "python",
   "nbconvert_exporter": "python",
   "pygments_lexer": "ipython3",
   "version": "3.12.1"
  }
 },
 "nbformat": 4,
 "nbformat_minor": 2
}
